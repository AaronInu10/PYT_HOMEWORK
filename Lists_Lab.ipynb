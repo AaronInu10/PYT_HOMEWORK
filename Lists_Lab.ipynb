{
 "cells": [
  {
   "cell_type": "markdown",
   "id": "6aab02fa",
   "metadata": {},
   "source": [
    "# Lists"
   ]
  },
  {
   "cell_type": "markdown",
   "id": "d9a7cc63",
   "metadata": {},
   "source": [
    "# You Do: Lists "
   ]
  },
  {
   "cell_type": "code",
   "execution_count": 2,
   "id": "7c8a2339",
   "metadata": {},
   "outputs": [
    {
     "name": "stdout",
     "output_type": "stream",
     "text": [
      "[2, 4, 6, 8]\n"
     ]
    }
   ],
   "source": [
    "# 1. Save a list with the numbers 2, 4, 6, and 8 into a variable called numbers.\n",
    "numbers = [2,4,6,8]\n",
    "print (numbers)"
   ]
  },
  {
   "cell_type": "code",
   "execution_count": 3,
   "id": "8438dd9f",
   "metadata": {},
   "outputs": [
    {
     "name": "stdout",
     "output_type": "stream",
     "text": [
      "8\n"
     ]
    }
   ],
   "source": [
    "# 2. Print the max of numbers.\n",
    "numbers = [2,4,6,8]\n",
    "print (max(numbers))"
   ]
  },
  {
   "cell_type": "code",
   "execution_count": 5,
   "id": "c6b7afa2",
   "metadata": {},
   "outputs": [
    {
     "name": "stdout",
     "output_type": "stream",
     "text": [
      "[2, 4, 8, 6]\n"
     ]
    }
   ],
   "source": [
    "# 3. Pop the last element in numbers; re-insert it at index 2.\n",
    "numbers = [2,4,6,8]\n",
    "last_number = numbers.pop ()\n",
    "numbers.insert (2, last_number)\n",
    "print (numbers)"
   ]
  },
  {
   "cell_type": "code",
   "execution_count": 6,
   "id": "b1a87760",
   "metadata": {},
   "outputs": [
    {
     "name": "stdout",
     "output_type": "stream",
     "text": [
      "[2, 8, 6]\n"
     ]
    }
   ],
   "source": [
    "# 4. Pop the second number in numbers off.\n",
    "numbers.pop (1)\n",
    "print (numbers)"
   ]
  },
  {
   "cell_type": "code",
   "execution_count": 7,
   "id": "15fb7c74",
   "metadata": {},
   "outputs": [
    {
     "name": "stdout",
     "output_type": "stream",
     "text": [
      "[2, 8, 6, 3]\n"
     ]
    }
   ],
   "source": [
    "# 5. Append 3 to numbers.\n",
    "numbers.append (3)\n",
    "print (numbers)"
   ]
  },
  {
   "cell_type": "code",
   "execution_count": 8,
   "id": "ff5a0542",
   "metadata": {},
   "outputs": [
    {
     "name": "stdout",
     "output_type": "stream",
     "text": [
      "4.75\n"
     ]
    }
   ],
   "source": [
    "# Print out the average number (divide the sum of numbers by the length).\n",
    "average_number = sum(numbers)/len(numbers)\n",
    "print (average_number)"
   ]
  },
  {
   "cell_type": "code",
   "execution_count": 9,
   "id": "c9bfe41c",
   "metadata": {},
   "outputs": [
    {
     "name": "stdout",
     "output_type": "stream",
     "text": [
      "[2, 8, 6, 3]\n"
     ]
    }
   ],
   "source": [
    "# 7. Print numbers.\n",
    "print (numbers)"
   ]
  },
  {
   "cell_type": "code",
   "execution_count": null,
   "id": "69671dea",
   "metadata": {},
   "outputs": [],
   "source": []
  }
 ],
 "metadata": {
  "kernelspec": {
   "display_name": "Python 3 (ipykernel)",
   "language": "python",
   "name": "python3"
  },
  "language_info": {
   "codemirror_mode": {
    "name": "ipython",
    "version": 3
   },
   "file_extension": ".py",
   "mimetype": "text/x-python",
   "name": "python",
   "nbconvert_exporter": "python",
   "pygments_lexer": "ipython3",
   "version": "3.9.12"
  }
 },
 "nbformat": 4,
 "nbformat_minor": 5
}
