{
 "cells": [
  {
   "cell_type": "markdown",
   "id": "8cead746",
   "metadata": {},
   "source": [
    "# Conditionals"
   ]
  },
  {
   "cell_type": "markdown",
   "id": "e55a2e3f",
   "metadata": {},
   "source": [
    "# Exercise 1"
   ]
  },
  {
   "cell_type": "code",
   "execution_count": 1,
   "id": "70a067c6",
   "metadata": {},
   "outputs": [
    {
     "name": "stdout",
     "output_type": "stream",
     "text": [
      " 9 is an odd number\n"
     ]
    }
   ],
   "source": [
    "number = 9\n",
    "remainder = number % 2\n",
    "\n",
    "if remainder == 0:\n",
    "    print(f\" {number} is an even number\")\n",
    "else:\n",
    "    print(f\" {number} is an odd number\")"
   ]
  },
  {
   "cell_type": "markdown",
   "id": "460847fc",
   "metadata": {},
   "source": [
    "# Exercise 2"
   ]
  },
  {
   "cell_type": "code",
   "execution_count": 18,
   "id": "9c390dc1",
   "metadata": {},
   "outputs": [
    {
     "name": "stdout",
     "output_type": "stream",
     "text": [
      "One of these is false.\n",
      "One is false\n",
      "x is greater than y.\n"
     ]
    }
   ],
   "source": [
    "x = 8\n",
    "y = 0\n",
    "a = \"Hello!\"\n",
    "b = \"\"\n",
    "\n",
    "#Check if x and b are both True. If they are, print \"Both of these are true.\"\n",
    "if x==True and b==True: #False wins when it is \"and\" so the output is false; x is true (value of 8) while b is false (no value assigned)\n",
    "    print (\"Both of these are true.\")\n",
    "\n",
    "#Check if y or a is False. If one is, print \"One of these is false.\"\n",
    "if y==False or a==False:  #Truth wins when it is \"or\". y is false while a is true so output is true. (1) Need to ask question about this for clarification\n",
    "    print (\"One of these is false.\")\n",
    "    \n",
    "#Check if either x or y is False. If one is, print out \"One is false.\" (2) Another question.\n",
    "if x!=True or y!=True: #Truth wins when it is \"or\". \n",
    "    print (\"One is false\")\n",
    "\n",
    "# Then, only if either x or y is False, check if x is greater than y. If it is, print out \"x is greater than y.\"\n",
    "if x!=True or y!=True: #Truth wins when it is \"or\". \n",
    "    if x > y:\n",
    "        print (\"x is greater than y.\")\n",
    "\n",
    "\n",
    "\n"
   ]
  },
  {
   "cell_type": "code",
   "execution_count": null,
   "id": "da120755",
   "metadata": {},
   "outputs": [],
   "source": []
  },
  {
   "cell_type": "code",
   "execution_count": null,
   "id": "5e26e3cb",
   "metadata": {},
   "outputs": [],
   "source": []
  }
 ],
 "metadata": {
  "kernelspec": {
   "display_name": "Python 3 (ipykernel)",
   "language": "python",
   "name": "python3"
  },
  "language_info": {
   "codemirror_mode": {
    "name": "ipython",
    "version": 3
   },
   "file_extension": ".py",
   "mimetype": "text/x-python",
   "name": "python",
   "nbconvert_exporter": "python",
   "pygments_lexer": "ipython3",
   "version": "3.9.12"
  }
 },
 "nbformat": 4,
 "nbformat_minor": 5
}
